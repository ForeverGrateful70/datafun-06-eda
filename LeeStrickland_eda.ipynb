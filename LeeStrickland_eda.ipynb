{
 "cells": [
  {
   "cell_type": "markdown",
   "metadata": {},
   "source": [
    "# Data Fundamentals Project 06 Custom EDA"
   ]
  },
  {
   "cell_type": "markdown",
   "metadata": {},
   "source": [
    "### Lee Strickland\n",
    "### 06/06/2024\n",
    "##### The purpose of this project is to perform a custom EDA of a chosen data set. I have chosen to use the mpg.csv data from Seaborn."
   ]
  },
  {
   "cell_type": "markdown",
   "metadata": {},
   "source": [
    "## Import Dependencies"
   ]
  },
  {
   "cell_type": "code",
   "execution_count": 8,
   "metadata": {},
   "outputs": [],
   "source": [
    "import seaborn as sns\n",
    "import pandas as pd\n",
    "import matplotlib.pyplot as plt"
   ]
  },
  {
   "cell_type": "markdown",
   "metadata": {},
   "source": [
    "## Loading mpg data set from Seaborn"
   ]
  },
  {
   "cell_type": "code",
   "execution_count": 2,
   "metadata": {},
   "outputs": [],
   "source": [
    "# Load the MPG dataset into DataFrame\n",
    "df = sns.load_dataset('mpg')"
   ]
  },
  {
   "cell_type": "markdown",
   "metadata": {},
   "source": [
    "##### I chose to use the mpg dataset from Seaborn library because I thought that this would be an interesting and fun dataset to work with."
   ]
  },
  {
   "cell_type": "markdown",
   "metadata": {},
   "source": [
    "# Renaming Columns\n",
    "\n",
    "### I am renaming the columns to improve the readability."
   ]
  },
  {
   "cell_type": "code",
   "execution_count": 3,
   "metadata": {},
   "outputs": [],
   "source": [
    "# Renaming columns\n",
    "df.rename(columns={'mpg': 'MPG'}, inplace=True)\n",
    "df.rename(columns={'cylinders': 'Cylinders'}, inplace=True)\n",
    "df.rename(columns={'displacement': 'Displacement'}, inplace=True)\n",
    "df.rename(columns={'horsepower': 'Horsepower'}, inplace=True)\n",
    "df.rename(columns={'weight': 'Weight (lbs)'}, inplace=True)\n",
    "df.rename(columns={'acceleration': 'Acceleration'}, inplace=True)\n",
    "df.rename(columns={'model_year': 'Model Year'}, inplace=True)\n",
    "df.rename(columns={'origin': 'Origin'}, inplace=True)\n",
    "df.rename(columns={'make': 'Make'}, inplace=True)"
   ]
  },
  {
   "cell_type": "markdown",
   "metadata": {},
   "source": [
    "# Initial view of the Data in the Dataframe:"
   ]
  },
  {
   "cell_type": "code",
   "execution_count": 4,
   "metadata": {},
   "outputs": [
    {
     "name": "stdout",
     "output_type": "stream",
     "text": [
      "    MPG  Cylinders  Displacement  Horsepower  Weight (lbs)  Acceleration  \\\n",
      "0  18.0          8         307.0       130.0          3504          12.0   \n",
      "1  15.0          8         350.0       165.0          3693          11.5   \n",
      "2  18.0          8         318.0       150.0          3436          11.0   \n",
      "3  16.0          8         304.0       150.0          3433          12.0   \n",
      "4  17.0          8         302.0       140.0          3449          10.5   \n",
      "\n",
      "   Model Year Origin                       name  \n",
      "0          70    usa  chevrolet chevelle malibu  \n",
      "1          70    usa          buick skylark 320  \n",
      "2          70    usa         plymouth satellite  \n",
      "3          70    usa              amc rebel sst  \n",
      "4          70    usa                ford torino  \n"
     ]
    }
   ],
   "source": [
    "print(df.head())"
   ]
  },
  {
   "cell_type": "code",
   "execution_count": 5,
   "metadata": {},
   "outputs": [
    {
     "name": "stdout",
     "output_type": "stream",
     "text": [
      "    MPG  Cylinders  Displacement  Horsepower  Weight (lbs)  Acceleration  \\\n",
      "0  18.0          8         307.0       130.0          3504          12.0   \n",
      "1  15.0          8         350.0       165.0          3693          11.5   \n",
      "2  18.0          8         318.0       150.0          3436          11.0   \n",
      "3  16.0          8         304.0       150.0          3433          12.0   \n",
      "4  17.0          8         302.0       140.0          3449          10.5   \n",
      "5  15.0          8         429.0       198.0          4341          10.0   \n",
      "6  14.0          8         454.0       220.0          4354           9.0   \n",
      "7  14.0          8         440.0       215.0          4312           8.5   \n",
      "8  14.0          8         455.0       225.0          4425          10.0   \n",
      "9  15.0          8         390.0       190.0          3850           8.5   \n",
      "\n",
      "   Model Year Origin                       name  \n",
      "0          70    usa  chevrolet chevelle malibu  \n",
      "1          70    usa          buick skylark 320  \n",
      "2          70    usa         plymouth satellite  \n",
      "3          70    usa              amc rebel sst  \n",
      "4          70    usa                ford torino  \n",
      "5          70    usa           ford galaxie 500  \n",
      "6          70    usa           chevrolet impala  \n",
      "7          70    usa          plymouth fury iii  \n",
      "8          70    usa           pontiac catalina  \n",
      "9          70    usa         amc ambassador dpl  \n",
      "(398, 9)\n",
      "MPG             float64\n",
      "Cylinders         int64\n",
      "Displacement    float64\n",
      "Horsepower      float64\n",
      "Weight (lbs)      int64\n",
      "Acceleration    float64\n",
      "Model Year        int64\n",
      "Origin           object\n",
      "name             object\n",
      "dtype: object\n"
     ]
    }
   ],
   "source": [
    "print(df.head(10))\n",
    "print(df.shape)\n",
    "print(df.dtypes)"
   ]
  },
  {
   "cell_type": "code",
   "execution_count": 6,
   "metadata": {},
   "outputs": [
    {
     "name": "stdout",
     "output_type": "stream",
     "text": [
      "              MPG   Cylinders  Displacement  Horsepower  Weight (lbs)  \\\n",
      "count  398.000000  398.000000    398.000000  392.000000    398.000000   \n",
      "mean    23.514573    5.454774    193.425879  104.469388   2970.424623   \n",
      "std      7.815984    1.701004    104.269838   38.491160    846.841774   \n",
      "min      9.000000    3.000000     68.000000   46.000000   1613.000000   \n",
      "25%     17.500000    4.000000    104.250000   75.000000   2223.750000   \n",
      "50%     23.000000    4.000000    148.500000   93.500000   2803.500000   \n",
      "75%     29.000000    8.000000    262.000000  126.000000   3608.000000   \n",
      "max     46.600000    8.000000    455.000000  230.000000   5140.000000   \n",
      "\n",
      "       Acceleration  Model Year  \n",
      "count    398.000000  398.000000  \n",
      "mean      15.568090   76.010050  \n",
      "std        2.757689    3.697627  \n",
      "min        8.000000   70.000000  \n",
      "25%       13.825000   73.000000  \n",
      "50%       15.500000   76.000000  \n",
      "75%       17.175000   79.000000  \n",
      "max       24.800000   82.000000  \n"
     ]
    }
   ],
   "source": [
    "print(df.describe())"
   ]
  },
  {
   "cell_type": "markdown",
   "metadata": {},
   "source": [
    "### Histogram:"
   ]
  },
  {
   "cell_type": "code",
   "execution_count": 9,
   "metadata": {},
   "outputs": [
    {
     "data": {
      "image/png": "[encoded data removed]",
      "text/plain": [
       "<Figure size 640x480 with 1 Axes>"
      ]
     },
     "metadata": {},
     "output_type": "display_data"
    },
    {
     "data": {
      "image/png": "[encoded data removed]",
      "text/plain": [
       "<Figure size 640x480 with 1 Axes>"
      ]
     },
     "metadata": {},
     "output_type": "display_data"
    }
   ],
   "source": [
    "# Inspect histogram\n",
    "df['MPG'].hist()\n",
    "plt.title(f'Distribution of MPG')\n",
    "plt.show()\n",
    "\n",
    "\n",
    "df['Cylinders'].hist()\n",
    "plt.title(f'Number of Cylinders')\n",
    "plt.show()"
   ]
  }
 ],
 "metadata": {
  "kernelspec": {
   "display_name": ".venv",
   "language": "python",
   "name": "python3"
  },
  "language_info": {
   "codemirror_mode": {
    "name": "ipython",
    "version": 3
   },
   "file_extension": ".py",
   "mimetype": "text/x-python",
   "name": "python",
   "nbconvert_exporter": "python",
   "pygments_lexer": "ipython3",
   "version": "3.12.3"
  }
 },
 "nbformat": 4,
 "nbformat_minor": 2
}
